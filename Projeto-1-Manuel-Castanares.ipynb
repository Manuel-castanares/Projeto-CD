{
 "cells": [
  {
   "cell_type": "code",
   "execution_count": 153,
   "metadata": {},
   "outputs": [],
   "source": [
    "%matplotlib inline\n",
    "import pandas as pd\n",
    "import matplotlib.pyplot as plt\n",
    "import numpy as np"
   ]
  },
  {
   "cell_type": "code",
   "execution_count": 154,
   "metadata": {},
   "outputs": [],
   "source": [
    "import os"
   ]
  },
  {
   "cell_type": "markdown",
   "metadata": {},
   "source": [
    "**Introdução:**\n",
    "Rascunho:\n",
    "\n",
    "A união europeia é um bloco economico que conta com vinte e oito membros (Espanha, França, Bélgica, etc...). Dentro da europa há outros dezessete países que não estão integrados neste bloco (Montenegro, Islandia, Noruéga, etc...). A UE, fundada em 1993, é um exemplo perfeito de como um bloco pode ser benéfico para seus membros. O bloco baseado na Europa tem um mercado comum, onde as leis de comércio são aplicáveis para todos os membros. Isso provoca a livre circulação de bens, capitais e serviços entre os estados da UE. "
   ]
  },
  {
   "cell_type": "markdown",
   "metadata": {},
   "source": [
    "**Pergunta:**\n",
    "\n",
    "Tendo isto em conta, a pergunta que será analisada é a seguinte: \n",
    "\n",
    "Como que o pertencimento á união europeia afeta o comércio como porcentagem do GDP (\"Merchandise trade %\")?"
   ]
  },
  {
   "cell_type": "markdown",
   "metadata": {},
   "source": [
    "**Hipótese e Mecanismo:**\n",
    "Rascunho:\n",
    "\n",
    "A hipótese deste projeto é que, devido ao \"free trade\" que ocorre entre os países membros da UE, o comércio dos países dentro deste bloco é grande. Além disso, a União Europeia tem tratos (que se aplicam a todos os membros) com países não membros o bloco econômico. Um exemplo disso é a relação de comércio e investimento entre a UE e os Estados Unidos, onde todos os membros da UE se beneficiam. A UE tem muitas relações de comércio com países fora do bloco. Assim, a exportação e importação, dentro da UE, aumenta.\n",
    "\n",
    "\n",
    "Isto pode ser visto na pesquisa da \"Eurostat\": https://ec.europa.eu/eurostat/statistics-explained/index.php/International_trade_in_goods_-_tariffs"
   ]
  },
  {
   "cell_type": "code",
   "execution_count": 155,
   "metadata": {},
   "outputs": [],
   "source": [
    "dados = pd.read_excel('merchandise_trade_percent_of_gdp.xlsx')"
   ]
  },
  {
   "cell_type": "code",
   "execution_count": 156,
   "metadata": {},
   "outputs": [
    {
     "data": {
      "text/plain": [
       "(185, 59)"
      ]
     },
     "execution_count": 156,
     "metadata": {},
     "output_type": "execute_result"
    }
   ],
   "source": [
    "dados.shape"
   ]
  },
  {
   "cell_type": "code",
   "execution_count": 157,
   "metadata": {},
   "outputs": [
    {
     "data": {
      "text/html": [
       "<div>\n",
       "<style scoped>\n",
       "    .dataframe tbody tr th:only-of-type {\n",
       "        vertical-align: middle;\n",
       "    }\n",
       "\n",
       "    .dataframe tbody tr th {\n",
       "        vertical-align: top;\n",
       "    }\n",
       "\n",
       "    .dataframe thead th {\n",
       "        text-align: right;\n",
       "    }\n",
       "</style>\n",
       "<table border=\"1\" class=\"dataframe\">\n",
       "  <thead>\n",
       "    <tr style=\"text-align: right;\">\n",
       "      <th></th>\n",
       "      <th>country</th>\n",
       "      <th>1960</th>\n",
       "      <th>1961</th>\n",
       "      <th>1962</th>\n",
       "      <th>1963</th>\n",
       "      <th>1964</th>\n",
       "      <th>1965</th>\n",
       "      <th>1966</th>\n",
       "      <th>1967</th>\n",
       "      <th>1968</th>\n",
       "      <th>...</th>\n",
       "      <th>2008</th>\n",
       "      <th>2009</th>\n",
       "      <th>2010</th>\n",
       "      <th>2011</th>\n",
       "      <th>2012</th>\n",
       "      <th>2013</th>\n",
       "      <th>2014</th>\n",
       "      <th>2015</th>\n",
       "      <th>2016</th>\n",
       "      <th>2017</th>\n",
       "    </tr>\n",
       "  </thead>\n",
       "  <tbody>\n",
       "    <tr>\n",
       "      <th>0</th>\n",
       "      <td>Afghanistan</td>\n",
       "      <td>25.5</td>\n",
       "      <td>27.7</td>\n",
       "      <td>31.8</td>\n",
       "      <td>26.0</td>\n",
       "      <td>23.5</td>\n",
       "      <td>19.4</td>\n",
       "      <td>13.9</td>\n",
       "      <td>11.5</td>\n",
       "      <td>13.5</td>\n",
       "      <td>...</td>\n",
       "      <td>34.9</td>\n",
       "      <td>30.0</td>\n",
       "      <td>34.8</td>\n",
       "      <td>38.4</td>\n",
       "      <td>46.2</td>\n",
       "      <td>44.8</td>\n",
       "      <td>40.1</td>\n",
       "      <td>43.2</td>\n",
       "      <td>36.6</td>\n",
       "      <td>40.7</td>\n",
       "    </tr>\n",
       "    <tr>\n",
       "      <th>1</th>\n",
       "      <td>Albania</td>\n",
       "      <td>NaN</td>\n",
       "      <td>NaN</td>\n",
       "      <td>NaN</td>\n",
       "      <td>NaN</td>\n",
       "      <td>NaN</td>\n",
       "      <td>NaN</td>\n",
       "      <td>NaN</td>\n",
       "      <td>NaN</td>\n",
       "      <td>NaN</td>\n",
       "      <td>...</td>\n",
       "      <td>51.3</td>\n",
       "      <td>46.8</td>\n",
       "      <td>49.9</td>\n",
       "      <td>57.0</td>\n",
       "      <td>55.6</td>\n",
       "      <td>56.6</td>\n",
       "      <td>57.9</td>\n",
       "      <td>54.9</td>\n",
       "      <td>55.8</td>\n",
       "      <td>58.2</td>\n",
       "    </tr>\n",
       "    <tr>\n",
       "      <th>2</th>\n",
       "      <td>Algeria</td>\n",
       "      <td>60.9</td>\n",
       "      <td>57.1</td>\n",
       "      <td>29.2</td>\n",
       "      <td>53.3</td>\n",
       "      <td>49.2</td>\n",
       "      <td>41.7</td>\n",
       "      <td>41.6</td>\n",
       "      <td>40.4</td>\n",
       "      <td>42.7</td>\n",
       "      <td>...</td>\n",
       "      <td>69.5</td>\n",
       "      <td>61.6</td>\n",
       "      <td>60.5</td>\n",
       "      <td>60.4</td>\n",
       "      <td>58.5</td>\n",
       "      <td>57.2</td>\n",
       "      <td>55.5</td>\n",
       "      <td>52.1</td>\n",
       "      <td>48.5</td>\n",
       "      <td>47.6</td>\n",
       "    </tr>\n",
       "    <tr>\n",
       "      <th>3</th>\n",
       "      <td>Angola</td>\n",
       "      <td>NaN</td>\n",
       "      <td>NaN</td>\n",
       "      <td>NaN</td>\n",
       "      <td>NaN</td>\n",
       "      <td>NaN</td>\n",
       "      <td>NaN</td>\n",
       "      <td>NaN</td>\n",
       "      <td>NaN</td>\n",
       "      <td>NaN</td>\n",
       "      <td>...</td>\n",
       "      <td>101.0</td>\n",
       "      <td>84.1</td>\n",
       "      <td>81.5</td>\n",
       "      <td>84.1</td>\n",
       "      <td>83.2</td>\n",
       "      <td>75.7</td>\n",
       "      <td>69.2</td>\n",
       "      <td>52.5</td>\n",
       "      <td>41.8</td>\n",
       "      <td>42.4</td>\n",
       "    </tr>\n",
       "    <tr>\n",
       "      <th>4</th>\n",
       "      <td>Antigua and Barbuda</td>\n",
       "      <td>NaN</td>\n",
       "      <td>NaN</td>\n",
       "      <td>NaN</td>\n",
       "      <td>NaN</td>\n",
       "      <td>NaN</td>\n",
       "      <td>NaN</td>\n",
       "      <td>NaN</td>\n",
       "      <td>NaN</td>\n",
       "      <td>NaN</td>\n",
       "      <td>...</td>\n",
       "      <td>59.1</td>\n",
       "      <td>47.8</td>\n",
       "      <td>47.5</td>\n",
       "      <td>42.6</td>\n",
       "      <td>45.8</td>\n",
       "      <td>48.0</td>\n",
       "      <td>49.3</td>\n",
       "      <td>38.6</td>\n",
       "      <td>39.8</td>\n",
       "      <td>42.7</td>\n",
       "    </tr>\n",
       "  </tbody>\n",
       "</table>\n",
       "<p>5 rows × 59 columns</p>\n",
       "</div>"
      ],
      "text/plain": [
       "               country  1960  1961  1962  1963  1964  1965  1966  1967  1968  \\\n",
       "0          Afghanistan  25.5  27.7  31.8  26.0  23.5  19.4  13.9  11.5  13.5   \n",
       "1              Albania   NaN   NaN   NaN   NaN   NaN   NaN   NaN   NaN   NaN   \n",
       "2              Algeria  60.9  57.1  29.2  53.3  49.2  41.7  41.6  40.4  42.7   \n",
       "3               Angola   NaN   NaN   NaN   NaN   NaN   NaN   NaN   NaN   NaN   \n",
       "4  Antigua and Barbuda   NaN   NaN   NaN   NaN   NaN   NaN   NaN   NaN   NaN   \n",
       "\n",
       "   ...    2008  2009  2010  2011  2012  2013  2014  2015  2016  2017  \n",
       "0  ...    34.9  30.0  34.8  38.4  46.2  44.8  40.1  43.2  36.6  40.7  \n",
       "1  ...    51.3  46.8  49.9  57.0  55.6  56.6  57.9  54.9  55.8  58.2  \n",
       "2  ...    69.5  61.6  60.5  60.4  58.5  57.2  55.5  52.1  48.5  47.6  \n",
       "3  ...   101.0  84.1  81.5  84.1  83.2  75.7  69.2  52.5  41.8  42.4  \n",
       "4  ...    59.1  47.8  47.5  42.6  45.8  48.0  49.3  38.6  39.8  42.7  \n",
       "\n",
       "[5 rows x 59 columns]"
      ]
     },
     "execution_count": 157,
     "metadata": {},
     "output_type": "execute_result"
    }
   ],
   "source": [
    "dados.head()"
   ]
  },
  {
   "cell_type": "code",
   "execution_count": 158,
   "metadata": {},
   "outputs": [],
   "source": [
    "#Criando o dataframe com 2015\n",
    "Merch_2015 = dados.loc[:, [\"country\", 2015]]"
   ]
  },
  {
   "cell_type": "code",
   "execution_count": 159,
   "metadata": {},
   "outputs": [],
   "source": [
    "Merch_dados = Merch_2015.set_index(\"country\")"
   ]
  },
  {
   "cell_type": "code",
   "execution_count": 160,
   "metadata": {},
   "outputs": [],
   "source": [
    "#Países na europa\n",
    "eu= [\"Albania\", \"Belarus\", \"Bosnia and Herzegovina\", \"Iceland\", \"Macedonia, FYR\", \"Moldova\", \"Montenegro\", \"Norway\", \"Russia\", \"Serbia\", \"Switzerland\", \"Turkey\", \"Ukraine\"]"
   ]
  },
  {
   "cell_type": "code",
   "execution_count": 161,
   "metadata": {},
   "outputs": [],
   "source": [
    "#Países na UE\n",
    "ue = [\"Austria\", \"Belgium\", \"Bulgaria\", \"Croatia\", \"Cyprus\", \"Czech Republic\", \"Denmark\", \"Estonia\", \"Finland\", \"France\", \"Germany\", \"Greece\", \"Hungary\", \"Ireland\", \"Italy\", \"Latvia\", \"Lithuania\", \"Netherlands\", \"Poland\", \"Portugal\", \"Romania\", \"Slovak Republic\", \"Slovenia\", \"Spain\", \"Sweden\", \"United Kingdom\"]"
   ]
  },
  {
   "cell_type": "code",
   "execution_count": 162,
   "metadata": {},
   "outputs": [],
   "source": [
    "#Criando nova coluna\n",
    "Merch_dados[\"Europa, UE ou Nenhum\"] = \"Nenhum\""
   ]
  },
  {
   "cell_type": "code",
   "execution_count": 163,
   "metadata": {},
   "outputs": [],
   "source": [
    "#Criando nova coluna\n",
    "Merch_dados.loc[eu, \"Europa, UE ou Nenhum\"] = \"Europa\""
   ]
  },
  {
   "cell_type": "code",
   "execution_count": 164,
   "metadata": {},
   "outputs": [],
   "source": [
    "#Criando nova coluna\n",
    "Merch_dados.loc[ue, \"Europa, UE ou Nenhum\"] = \"UE\""
   ]
  },
  {
   "cell_type": "code",
   "execution_count": 165,
   "metadata": {},
   "outputs": [
    {
     "data": {
      "text/html": [
       "<div>\n",
       "<style scoped>\n",
       "    .dataframe tbody tr th:only-of-type {\n",
       "        vertical-align: middle;\n",
       "    }\n",
       "\n",
       "    .dataframe tbody tr th {\n",
       "        vertical-align: top;\n",
       "    }\n",
       "\n",
       "    .dataframe thead th {\n",
       "        text-align: right;\n",
       "    }\n",
       "</style>\n",
       "<table border=\"1\" class=\"dataframe\">\n",
       "  <thead>\n",
       "    <tr style=\"text-align: right;\">\n",
       "      <th></th>\n",
       "      <th>2015</th>\n",
       "      <th>Europa, UE ou Nenhum</th>\n",
       "    </tr>\n",
       "    <tr>\n",
       "      <th>country</th>\n",
       "      <th></th>\n",
       "      <th></th>\n",
       "    </tr>\n",
       "  </thead>\n",
       "  <tbody>\n",
       "    <tr>\n",
       "      <th>Afghanistan</th>\n",
       "      <td>43.2</td>\n",
       "      <td>Nenhum</td>\n",
       "    </tr>\n",
       "    <tr>\n",
       "      <th>Albania</th>\n",
       "      <td>54.9</td>\n",
       "      <td>Europa</td>\n",
       "    </tr>\n",
       "    <tr>\n",
       "      <th>Algeria</th>\n",
       "      <td>52.1</td>\n",
       "      <td>Nenhum</td>\n",
       "    </tr>\n",
       "    <tr>\n",
       "      <th>Angola</th>\n",
       "      <td>52.5</td>\n",
       "      <td>Nenhum</td>\n",
       "    </tr>\n",
       "    <tr>\n",
       "      <th>Antigua and Barbuda</th>\n",
       "      <td>38.6</td>\n",
       "      <td>Nenhum</td>\n",
       "    </tr>\n",
       "    <tr>\n",
       "      <th>Argentina</th>\n",
       "      <td>19.7</td>\n",
       "      <td>Nenhum</td>\n",
       "    </tr>\n",
       "    <tr>\n",
       "      <th>Armenia</th>\n",
       "      <td>44.8</td>\n",
       "      <td>Nenhum</td>\n",
       "    </tr>\n",
       "    <tr>\n",
       "      <th>Australia</th>\n",
       "      <td>29.4</td>\n",
       "      <td>Nenhum</td>\n",
       "    </tr>\n",
       "    <tr>\n",
       "      <th>Austria</th>\n",
       "      <td>80.9</td>\n",
       "      <td>UE</td>\n",
       "    </tr>\n",
       "    <tr>\n",
       "      <th>Azerbaijan</th>\n",
       "      <td>48.6</td>\n",
       "      <td>Nenhum</td>\n",
       "    </tr>\n",
       "    <tr>\n",
       "      <th>Bahamas</th>\n",
       "      <td>29.5</td>\n",
       "      <td>Nenhum</td>\n",
       "    </tr>\n",
       "    <tr>\n",
       "      <th>Bahrain</th>\n",
       "      <td>87.2</td>\n",
       "      <td>Nenhum</td>\n",
       "    </tr>\n",
       "    <tr>\n",
       "      <th>Bangladesh</th>\n",
       "      <td>38.2</td>\n",
       "      <td>Nenhum</td>\n",
       "    </tr>\n",
       "    <tr>\n",
       "      <th>Barbados</th>\n",
       "      <td>45.8</td>\n",
       "      <td>Nenhum</td>\n",
       "    </tr>\n",
       "    <tr>\n",
       "      <th>Belarus</th>\n",
       "      <td>101.0</td>\n",
       "      <td>Europa</td>\n",
       "    </tr>\n",
       "    <tr>\n",
       "      <th>Belgium</th>\n",
       "      <td>170.0</td>\n",
       "      <td>UE</td>\n",
       "    </tr>\n",
       "    <tr>\n",
       "      <th>Belize</th>\n",
       "      <td>86.0</td>\n",
       "      <td>Nenhum</td>\n",
       "    </tr>\n",
       "    <tr>\n",
       "      <th>Benin</th>\n",
       "      <td>51.2</td>\n",
       "      <td>Nenhum</td>\n",
       "    </tr>\n",
       "    <tr>\n",
       "      <th>Bhutan</th>\n",
       "      <td>78.2</td>\n",
       "      <td>Nenhum</td>\n",
       "    </tr>\n",
       "    <tr>\n",
       "      <th>Bolivia</th>\n",
       "      <td>54.2</td>\n",
       "      <td>Nenhum</td>\n",
       "    </tr>\n",
       "    <tr>\n",
       "      <th>Bosnia and Herzegovina</th>\n",
       "      <td>86.9</td>\n",
       "      <td>Europa</td>\n",
       "    </tr>\n",
       "    <tr>\n",
       "      <th>Botswana</th>\n",
       "      <td>94.1</td>\n",
       "      <td>Nenhum</td>\n",
       "    </tr>\n",
       "    <tr>\n",
       "      <th>Brazil</th>\n",
       "      <td>20.5</td>\n",
       "      <td>Nenhum</td>\n",
       "    </tr>\n",
       "    <tr>\n",
       "      <th>Brunei</th>\n",
       "      <td>74.1</td>\n",
       "      <td>Nenhum</td>\n",
       "    </tr>\n",
       "    <tr>\n",
       "      <th>Bulgaria</th>\n",
       "      <td>109.0</td>\n",
       "      <td>UE</td>\n",
       "    </tr>\n",
       "    <tr>\n",
       "      <th>Burkina Faso</th>\n",
       "      <td>50.4</td>\n",
       "      <td>Nenhum</td>\n",
       "    </tr>\n",
       "    <tr>\n",
       "      <th>Burundi</th>\n",
       "      <td>27.5</td>\n",
       "      <td>Nenhum</td>\n",
       "    </tr>\n",
       "    <tr>\n",
       "      <th>Cambodia</th>\n",
       "      <td>113.0</td>\n",
       "      <td>Nenhum</td>\n",
       "    </tr>\n",
       "    <tr>\n",
       "      <th>Cameroon</th>\n",
       "      <td>33.1</td>\n",
       "      <td>Nenhum</td>\n",
       "    </tr>\n",
       "    <tr>\n",
       "      <th>Canada</th>\n",
       "      <td>53.8</td>\n",
       "      <td>Nenhum</td>\n",
       "    </tr>\n",
       "    <tr>\n",
       "      <th>...</th>\n",
       "      <td>...</td>\n",
       "      <td>...</td>\n",
       "    </tr>\n",
       "    <tr>\n",
       "      <th>Sudan</th>\n",
       "      <td>13.0</td>\n",
       "      <td>Nenhum</td>\n",
       "    </tr>\n",
       "    <tr>\n",
       "      <th>Suriname</th>\n",
       "      <td>76.3</td>\n",
       "      <td>Nenhum</td>\n",
       "    </tr>\n",
       "    <tr>\n",
       "      <th>Swaziland</th>\n",
       "      <td>79.7</td>\n",
       "      <td>Nenhum</td>\n",
       "    </tr>\n",
       "    <tr>\n",
       "      <th>Sweden</th>\n",
       "      <td>55.9</td>\n",
       "      <td>UE</td>\n",
       "    </tr>\n",
       "    <tr>\n",
       "      <th>Switzerland</th>\n",
       "      <td>79.9</td>\n",
       "      <td>Europa</td>\n",
       "    </tr>\n",
       "    <tr>\n",
       "      <th>Syria</th>\n",
       "      <td>NaN</td>\n",
       "      <td>Nenhum</td>\n",
       "    </tr>\n",
       "    <tr>\n",
       "      <th>Tajikistan</th>\n",
       "      <td>55.1</td>\n",
       "      <td>Nenhum</td>\n",
       "    </tr>\n",
       "    <tr>\n",
       "      <th>Tanzania</th>\n",
       "      <td>34.5</td>\n",
       "      <td>Nenhum</td>\n",
       "    </tr>\n",
       "    <tr>\n",
       "      <th>Thailand</th>\n",
       "      <td>104.0</td>\n",
       "      <td>Nenhum</td>\n",
       "    </tr>\n",
       "    <tr>\n",
       "      <th>Timor-Leste</th>\n",
       "      <td>29.9</td>\n",
       "      <td>Nenhum</td>\n",
       "    </tr>\n",
       "    <tr>\n",
       "      <th>Togo</th>\n",
       "      <td>81.9</td>\n",
       "      <td>Nenhum</td>\n",
       "    </tr>\n",
       "    <tr>\n",
       "      <th>Tonga</th>\n",
       "      <td>52.1</td>\n",
       "      <td>Nenhum</td>\n",
       "    </tr>\n",
       "    <tr>\n",
       "      <th>Trinidad and Tobago</th>\n",
       "      <td>83.1</td>\n",
       "      <td>Nenhum</td>\n",
       "    </tr>\n",
       "    <tr>\n",
       "      <th>Tunisia</th>\n",
       "      <td>79.5</td>\n",
       "      <td>Nenhum</td>\n",
       "    </tr>\n",
       "    <tr>\n",
       "      <th>Turkey</th>\n",
       "      <td>40.8</td>\n",
       "      <td>Europa</td>\n",
       "    </tr>\n",
       "    <tr>\n",
       "      <th>Turkmenistan</th>\n",
       "      <td>53.1</td>\n",
       "      <td>Nenhum</td>\n",
       "    </tr>\n",
       "    <tr>\n",
       "      <th>Tuvalu</th>\n",
       "      <td>104.0</td>\n",
       "      <td>Nenhum</td>\n",
       "    </tr>\n",
       "    <tr>\n",
       "      <th>Uganda</th>\n",
       "      <td>28.8</td>\n",
       "      <td>Nenhum</td>\n",
       "    </tr>\n",
       "    <tr>\n",
       "      <th>Ukraine</th>\n",
       "      <td>81.5</td>\n",
       "      <td>Europa</td>\n",
       "    </tr>\n",
       "    <tr>\n",
       "      <th>United Arab Emirates</th>\n",
       "      <td>157.0</td>\n",
       "      <td>Nenhum</td>\n",
       "    </tr>\n",
       "    <tr>\n",
       "      <th>United Kingdom</th>\n",
       "      <td>37.7</td>\n",
       "      <td>UE</td>\n",
       "    </tr>\n",
       "    <tr>\n",
       "      <th>United States</th>\n",
       "      <td>21.1</td>\n",
       "      <td>Nenhum</td>\n",
       "    </tr>\n",
       "    <tr>\n",
       "      <th>Uruguay</th>\n",
       "      <td>32.2</td>\n",
       "      <td>Nenhum</td>\n",
       "    </tr>\n",
       "    <tr>\n",
       "      <th>Uzbekistan</th>\n",
       "      <td>32.9</td>\n",
       "      <td>Nenhum</td>\n",
       "    </tr>\n",
       "    <tr>\n",
       "      <th>Vanuatu</th>\n",
       "      <td>55.0</td>\n",
       "      <td>Nenhum</td>\n",
       "    </tr>\n",
       "    <tr>\n",
       "      <th>Venezuela</th>\n",
       "      <td>NaN</td>\n",
       "      <td>Nenhum</td>\n",
       "    </tr>\n",
       "    <tr>\n",
       "      <th>Vietnam</th>\n",
       "      <td>170.0</td>\n",
       "      <td>Nenhum</td>\n",
       "    </tr>\n",
       "    <tr>\n",
       "      <th>Yemen</th>\n",
       "      <td>21.9</td>\n",
       "      <td>Nenhum</td>\n",
       "    </tr>\n",
       "    <tr>\n",
       "      <th>Zambia</th>\n",
       "      <td>73.4</td>\n",
       "      <td>Nenhum</td>\n",
       "    </tr>\n",
       "    <tr>\n",
       "      <th>Zimbabwe</th>\n",
       "      <td>44.5</td>\n",
       "      <td>Nenhum</td>\n",
       "    </tr>\n",
       "  </tbody>\n",
       "</table>\n",
       "<p>185 rows × 2 columns</p>\n",
       "</div>"
      ],
      "text/plain": [
       "                         2015 Europa, UE ou Nenhum\n",
       "country                                           \n",
       "Afghanistan              43.2               Nenhum\n",
       "Albania                  54.9               Europa\n",
       "Algeria                  52.1               Nenhum\n",
       "Angola                   52.5               Nenhum\n",
       "Antigua and Barbuda      38.6               Nenhum\n",
       "Argentina                19.7               Nenhum\n",
       "Armenia                  44.8               Nenhum\n",
       "Australia                29.4               Nenhum\n",
       "Austria                  80.9                   UE\n",
       "Azerbaijan               48.6               Nenhum\n",
       "Bahamas                  29.5               Nenhum\n",
       "Bahrain                  87.2               Nenhum\n",
       "Bangladesh               38.2               Nenhum\n",
       "Barbados                 45.8               Nenhum\n",
       "Belarus                 101.0               Europa\n",
       "Belgium                 170.0                   UE\n",
       "Belize                   86.0               Nenhum\n",
       "Benin                    51.2               Nenhum\n",
       "Bhutan                   78.2               Nenhum\n",
       "Bolivia                  54.2               Nenhum\n",
       "Bosnia and Herzegovina   86.9               Europa\n",
       "Botswana                 94.1               Nenhum\n",
       "Brazil                   20.5               Nenhum\n",
       "Brunei                   74.1               Nenhum\n",
       "Bulgaria                109.0                   UE\n",
       "Burkina Faso             50.4               Nenhum\n",
       "Burundi                  27.5               Nenhum\n",
       "Cambodia                113.0               Nenhum\n",
       "Cameroon                 33.1               Nenhum\n",
       "Canada                   53.8               Nenhum\n",
       "...                       ...                  ...\n",
       "Sudan                    13.0               Nenhum\n",
       "Suriname                 76.3               Nenhum\n",
       "Swaziland                79.7               Nenhum\n",
       "Sweden                   55.9                   UE\n",
       "Switzerland              79.9               Europa\n",
       "Syria                     NaN               Nenhum\n",
       "Tajikistan               55.1               Nenhum\n",
       "Tanzania                 34.5               Nenhum\n",
       "Thailand                104.0               Nenhum\n",
       "Timor-Leste              29.9               Nenhum\n",
       "Togo                     81.9               Nenhum\n",
       "Tonga                    52.1               Nenhum\n",
       "Trinidad and Tobago      83.1               Nenhum\n",
       "Tunisia                  79.5               Nenhum\n",
       "Turkey                   40.8               Europa\n",
       "Turkmenistan             53.1               Nenhum\n",
       "Tuvalu                  104.0               Nenhum\n",
       "Uganda                   28.8               Nenhum\n",
       "Ukraine                  81.5               Europa\n",
       "United Arab Emirates    157.0               Nenhum\n",
       "United Kingdom           37.7                   UE\n",
       "United States            21.1               Nenhum\n",
       "Uruguay                  32.2               Nenhum\n",
       "Uzbekistan               32.9               Nenhum\n",
       "Vanuatu                  55.0               Nenhum\n",
       "Venezuela                 NaN               Nenhum\n",
       "Vietnam                 170.0               Nenhum\n",
       "Yemen                    21.9               Nenhum\n",
       "Zambia                   73.4               Nenhum\n",
       "Zimbabwe                 44.5               Nenhum\n",
       "\n",
       "[185 rows x 2 columns]"
      ]
     },
     "execution_count": 165,
     "metadata": {},
     "output_type": "execute_result"
    }
   ],
   "source": [
    "Merch_dados"
   ]
  },
  {
   "cell_type": "markdown",
   "metadata": {},
   "source": [
    "#Salvando\n",
    "Merch_dados.to_csv(\"Merchandise_Eu.csv\", index = True)"
   ]
  },
  {
   "cell_type": "code",
   "execution_count": 187,
   "metadata": {},
   "outputs": [],
   "source": [
    "#Salvando\n",
    "Merch_dados.to_excel(\"Merchandise_Eu.xlsx\")"
   ]
  },
  {
   "cell_type": "code",
   "execution_count": 167,
   "metadata": {},
   "outputs": [],
   "source": [
    "#Mostra que o comércio mundial no geral teve um aumento\n",
    "y = dados.mean()\n",
    "x = y.index"
   ]
  },
  {
   "cell_type": "code",
   "execution_count": 168,
   "metadata": {},
   "outputs": [
    {
     "data": {
      "image/png": "[encoded data removed]",
      "text/plain": [
       "<Figure size 432x288 with 1 Axes>"
      ]
     },
     "metadata": {
      "needs_background": "light"
     },
     "output_type": "display_data"
    }
   ],
   "source": [
    "plt.plot(x, y)\n",
    "plt.ylabel(\"Merchandise mean (%)\")\n",
    "plt.xlabel(\"anos\")\n",
    "plt.show()"
   ]
  },
  {
   "cell_type": "code",
   "execution_count": 169,
   "metadata": {},
   "outputs": [
    {
     "data": {
      "text/plain": [
       "<matplotlib.axes._subplots.AxesSubplot at 0x11e30b7f0>"
      ]
     },
     "execution_count": 169,
     "metadata": {},
     "output_type": "execute_result"
    },
    {
     "data": {
      "image/png": "[encoded data removed]",
      "text/plain": [
       "<Figure size 432x288 with 1 Axes>"
      ]
     },
     "metadata": {
      "needs_background": "light"
     },
     "output_type": "display_data"
    },
    {
     "data": {
      "image/png": "[encoded data removed]",
      "text/plain": [
       "<Figure size 432x288 with 1 Axes>"
      ]
     },
     "metadata": {
      "needs_background": "light"
     },
     "output_type": "display_data"
    },
    {
     "data": {
      "image/png": "[encoded data removed]",
      "text/plain": [
       "<Figure size 432x288 with 1 Axes>"
      ]
     },
     "metadata": {
      "needs_background": "light"
     },
     "output_type": "display_data"
    }
   ],
   "source": [
    "#Fazendo boxplot para analisar a destribuição\n",
    "Merch_dados.loc[(Merch_dados[\"Europa, UE ou Nenhum\"]==\"Nenhum\")].plot.box()\n",
    "\n",
    "Merch_dados.loc[(Merch_dados[\"Europa, UE ou Nenhum\"]==\"UE\")].plot.box()\n",
    "\n",
    "Merch_dados.loc[(Merch_dados[\"Europa, UE ou Nenhum\"]==\"Europa\")].plot.box()"
   ]
  },
  {
   "cell_type": "code",
   "execution_count": 170,
   "metadata": {},
   "outputs": [],
   "source": [
    "#Criando nova variavel para fazer gráficos de média por ano\n",
    "Merch_ue = Merch_dados.loc[(Merch_dados['Europa, UE ou Nenhum']==\"UE\")]"
   ]
  },
  {
   "cell_type": "code",
   "execution_count": 171,
   "metadata": {},
   "outputs": [],
   "source": [
    "#Criando nova variavel para fazer gráficos de média por ano\n",
    "Merch_eu = Merch_dados.loc[(Merch_dados['Europa, UE ou Nenhum']==\"Europa\")]"
   ]
  },
  {
   "cell_type": "code",
   "execution_count": 172,
   "metadata": {},
   "outputs": [],
   "source": [
    "#Criando nova variavel para fazer gráficos de média por ano\n",
    "\n",
    "Merch_ninguem = Merch_dados.loc[(Merch_dados['Europa, UE ou Nenhum']==\"Nenhum\")] "
   ]
  },
  {
   "cell_type": "code",
   "execution_count": 173,
   "metadata": {},
   "outputs": [],
   "source": [
    "#Criando tabela para mostrar média, mediana e Desvio Padrão\n",
    "dic = {'Europa, UE, Nenhum':['Europa', 'UE', \"Nenhum\"],\n",
    "       'Média': [68.783333, 90.115385, 58.781818],\n",
    "       'Mediana': [69.6, 71.9, 52.5],\n",
    "       'Desvio Padrão': [21.235854, 44.169416, 29.47343]}"
   ]
  },
  {
   "cell_type": "code",
   "execution_count": 174,
   "metadata": {},
   "outputs": [
    {
     "data": {
      "text/plain": [
       "2015    58.781818\n",
       "dtype: float64"
      ]
     },
     "execution_count": 174,
     "metadata": {},
     "output_type": "execute_result"
    }
   ],
   "source": [
    "#Pegando os dados para a tabela\n",
    "Merch_ninguem.mean()"
   ]
  },
  {
   "cell_type": "code",
   "execution_count": 175,
   "metadata": {},
   "outputs": [
    {
     "data": {
      "text/plain": [
       "2015    90.115385\n",
       "dtype: float64"
      ]
     },
     "execution_count": 175,
     "metadata": {},
     "output_type": "execute_result"
    }
   ],
   "source": [
    "#Pegando os dados para a tabela\n",
    "Merch_ue.mean()"
   ]
  },
  {
   "cell_type": "code",
   "execution_count": 176,
   "metadata": {},
   "outputs": [
    {
     "data": {
      "text/plain": [
       "2015    68.783333\n",
       "dtype: float64"
      ]
     },
     "execution_count": 176,
     "metadata": {},
     "output_type": "execute_result"
    }
   ],
   "source": [
    "#Pegando os dados para a tabela\n",
    "Merch_eu.mean()"
   ]
  },
  {
   "cell_type": "code",
   "execution_count": 177,
   "metadata": {},
   "outputs": [
    {
     "data": {
      "text/plain": [
       "2015    52.5\n",
       "dtype: float64"
      ]
     },
     "execution_count": 177,
     "metadata": {},
     "output_type": "execute_result"
    }
   ],
   "source": [
    "#Pegando os dados para a tabela\n",
    "Merch_ninguem.median()"
   ]
  },
  {
   "cell_type": "code",
   "execution_count": 178,
   "metadata": {},
   "outputs": [
    {
     "data": {
      "text/plain": [
       "2015    71.9\n",
       "dtype: float64"
      ]
     },
     "execution_count": 178,
     "metadata": {},
     "output_type": "execute_result"
    }
   ],
   "source": [
    "#Pegando os dados para a tabela\n",
    "Merch_ue.median()"
   ]
  },
  {
   "cell_type": "code",
   "execution_count": 179,
   "metadata": {},
   "outputs": [
    {
     "data": {
      "text/plain": [
       "2015    69.6\n",
       "dtype: float64"
      ]
     },
     "execution_count": 179,
     "metadata": {},
     "output_type": "execute_result"
    }
   ],
   "source": [
    "#Pegando os dados para a tabela\n",
    "Merch_eu.median()"
   ]
  },
  {
   "cell_type": "code",
   "execution_count": 180,
   "metadata": {},
   "outputs": [
    {
     "data": {
      "text/plain": [
       "2015    29.47343\n",
       "dtype: float64"
      ]
     },
     "execution_count": 180,
     "metadata": {},
     "output_type": "execute_result"
    }
   ],
   "source": [
    "#Pegando os dados para a tabela\n",
    "Merch_ninguem.std()"
   ]
  },
  {
   "cell_type": "code",
   "execution_count": 181,
   "metadata": {},
   "outputs": [
    {
     "data": {
      "text/plain": [
       "2015    44.169416\n",
       "dtype: float64"
      ]
     },
     "execution_count": 181,
     "metadata": {},
     "output_type": "execute_result"
    }
   ],
   "source": [
    "#Pegando os dados para a tabela\n",
    "Merch_ue.std()"
   ]
  },
  {
   "cell_type": "code",
   "execution_count": 182,
   "metadata": {},
   "outputs": [
    {
     "data": {
      "text/plain": [
       "2015    21.235854\n",
       "dtype: float64"
      ]
     },
     "execution_count": 182,
     "metadata": {},
     "output_type": "execute_result"
    }
   ],
   "source": [
    "#Pegando os dados para a tabela\n",
    "Merch_eu.std()"
   ]
  },
  {
   "cell_type": "code",
   "execution_count": 183,
   "metadata": {},
   "outputs": [],
   "source": [
    "dados_tudo = pd.DataFrame(dic)"
   ]
  },
  {
   "cell_type": "code",
   "execution_count": 184,
   "metadata": {},
   "outputs": [
    {
     "data": {
      "text/html": [
       "<div>\n",
       "<style scoped>\n",
       "    .dataframe tbody tr th:only-of-type {\n",
       "        vertical-align: middle;\n",
       "    }\n",
       "\n",
       "    .dataframe tbody tr th {\n",
       "        vertical-align: top;\n",
       "    }\n",
       "\n",
       "    .dataframe thead th {\n",
       "        text-align: right;\n",
       "    }\n",
       "</style>\n",
       "<table border=\"1\" class=\"dataframe\">\n",
       "  <thead>\n",
       "    <tr style=\"text-align: right;\">\n",
       "      <th></th>\n",
       "      <th>Europa, UE, Nenhum</th>\n",
       "      <th>Média</th>\n",
       "      <th>Mediana</th>\n",
       "      <th>Desvio Padrão</th>\n",
       "    </tr>\n",
       "  </thead>\n",
       "  <tbody>\n",
       "    <tr>\n",
       "      <th>0</th>\n",
       "      <td>Europa</td>\n",
       "      <td>68.783333</td>\n",
       "      <td>69.6</td>\n",
       "      <td>21.235854</td>\n",
       "    </tr>\n",
       "    <tr>\n",
       "      <th>1</th>\n",
       "      <td>UE</td>\n",
       "      <td>90.115385</td>\n",
       "      <td>71.9</td>\n",
       "      <td>44.169416</td>\n",
       "    </tr>\n",
       "    <tr>\n",
       "      <th>2</th>\n",
       "      <td>Nenhum</td>\n",
       "      <td>58.781818</td>\n",
       "      <td>52.5</td>\n",
       "      <td>29.473430</td>\n",
       "    </tr>\n",
       "  </tbody>\n",
       "</table>\n",
       "</div>"
      ],
      "text/plain": [
       "  Europa, UE, Nenhum      Média  Mediana  Desvio Padrão\n",
       "0             Europa  68.783333     69.6      21.235854\n",
       "1                 UE  90.115385     71.9      44.169416\n",
       "2             Nenhum  58.781818     52.5      29.473430"
      ]
     },
     "execution_count": 184,
     "metadata": {},
     "output_type": "execute_result"
    }
   ],
   "source": [
    "dados_tudo"
   ]
  },
  {
   "cell_type": "code",
   "execution_count": 185,
   "metadata": {},
   "outputs": [],
   "source": [
    "#Criando variavel para fazer gráfico de média por tempo, para os três grupos\n",
    "dados_ind = dados.set_index(\"country\")\n",
    "\n",
    "dados_ind[\"Europa, UE ou Nenhum\"] = \"Nenhum\"\n",
    "dados_ind.loc[eu, \"Europa, UE ou Nenhum\"] = \"Europa\"\n",
    "dados_ind.loc[ue, \"Europa, UE ou Nenhum\"] = \"UE\""
   ]
  },
  {
   "cell_type": "code",
   "execution_count": 186,
   "metadata": {},
   "outputs": [
    {
     "data": {
      "image/png": "[encoded data removed]",
      "text/plain": [
       "<Figure size 432x288 with 1 Axes>"
      ]
     },
     "metadata": {
      "needs_background": "light"
     },
     "output_type": "display_data"
    },
    {
     "data": {
      "image/png": "[encoded data removed]",
      "text/plain": [
       "<Figure size 432x288 with 1 Axes>"
      ]
     },
     "metadata": {
      "needs_background": "light"
     },
     "output_type": "display_data"
    },
    {
     "data": {
      "image/png": "[encoded data removed]",
      "text/plain": [
       "<Figure size 432x288 with 1 Axes>"
      ]
     },
     "metadata": {
      "needs_background": "light"
     },
     "output_type": "display_data"
    }
   ],
   "source": [
    "#Plotando os gráficos\n",
    "mean_t_nenhum = dados_ind.loc[(dados_ind[\"Europa, UE ou Nenhum\"]==\"Nenhum\")].mean()\n",
    "y2 = mean_t_nenhum.index\n",
    "\n",
    "plt.plot(y2, mean_t_nenhum)\n",
    "plt.xlabel(\"anos\")\n",
    "plt.ylabel(\"média por ano (Nenhum)\")\n",
    "plt.show()\n",
    "\n",
    "mean_t_UE = dados_ind.loc[(dados_ind[\"Europa, UE ou Nenhum\"]==\"UE\")].mean()\n",
    "y3 = mean_t_UE.index\n",
    "\n",
    "plt.plot(y3, mean_t_UE, 'g')\n",
    "plt.xlabel(\"anos\")\n",
    "plt.ylabel(\"média por ano (UE)\")\n",
    "plt.show()\n",
    "\n",
    "mean_t_Europa = dados_ind.loc[(dados_ind[\"Europa, UE ou Nenhum\"]==\"Europa\")].mean()\n",
    "y4 = mean_t_Europa.index\n",
    "\n",
    "plt.plot(y4, mean_t_Europa, 'r')\n",
    "plt.xlabel(\"anos\")\n",
    "plt.ylabel(\"média por ano (Europa)\")\n",
    "plt.show()"
   ]
  },
  {
   "cell_type": "code",
   "execution_count": null,
   "metadata": {},
   "outputs": [],
   "source": []
  },
  {
   "cell_type": "code",
   "execution_count": null,
   "metadata": {},
   "outputs": [],
   "source": []
  },
  {
   "cell_type": "code",
   "execution_count": null,
   "metadata": {},
   "outputs": [],
   "source": [
    "\n",
    "\n"
   ]
  },
  {
   "cell_type": "code",
   "execution_count": null,
   "metadata": {},
   "outputs": [],
   "source": [
    "\n",
    "\n"
   ]
  },
  {
   "cell_type": "code",
   "execution_count": null,
   "metadata": {},
   "outputs": [],
   "source": []
  }
 ],
 "metadata": {
  "kernelspec": {
   "display_name": "Python 3",
   "language": "python",
   "name": "python3"
  },
  "language_info": {
   "codemirror_mode": {
    "name": "ipython",
    "version": 3
   },
   "file_extension": ".py",
   "mimetype": "text/x-python",
   "name": "python",
   "nbconvert_exporter": "python",
   "pygments_lexer": "ipython3",
   "version": "3.7.1"
  }
 },
 "nbformat": 4,
 "nbformat_minor": 2
}
